{
 "cells": [
  {
   "cell_type": "code",
   "execution_count": 33,
   "id": "4dcf7c13",
   "metadata": {},
   "outputs": [],
   "source": [
    "import pandas as pd\n",
    "import numpy as np\n",
    "\n",
    "\n",
    "import matplotlib.pyplot as plt\n",
    "import seaborn as sns\n",
    "import plotly.express as px\n",
    "\n",
    "\n",
    "from sklearn.preprocessing import MinMaxScaler,StandardScaler\n",
    "from sklearn.linear_model import LogisticRegression\n",
    "from sklearn.model_selection import train_test_split\n",
    "from sklearn.metrics import accuracy_score,confusion_matrix, classification_report,roc_curve\n",
    "from sklearn.decomposition import PCA\n",
    "\n",
    "import warnings\n",
    "warnings.filterwarnings('ignore')"
   ]
  },
  {
   "cell_type": "markdown",
   "id": "9f8650c8",
   "metadata": {},
   "source": [
    "##  Data Gathering"
   ]
  },
  {
   "cell_type": "code",
   "execution_count": 34,
   "id": "55f24cad",
   "metadata": {},
   "outputs": [
    {
     "data": {
      "text/html": [
       "<div>\n",
       "<style scoped>\n",
       "    .dataframe tbody tr th:only-of-type {\n",
       "        vertical-align: middle;\n",
       "    }\n",
       "\n",
       "    .dataframe tbody tr th {\n",
       "        vertical-align: top;\n",
       "    }\n",
       "\n",
       "    .dataframe thead th {\n",
       "        text-align: right;\n",
       "    }\n",
       "</style>\n",
       "<table border=\"1\" class=\"dataframe\">\n",
       "  <thead>\n",
       "    <tr style=\"text-align: right;\">\n",
       "      <th></th>\n",
       "      <th>Wine</th>\n",
       "      <th>Alcohol</th>\n",
       "      <th>Malic.acid</th>\n",
       "      <th>Ash</th>\n",
       "      <th>Acl</th>\n",
       "      <th>Mg</th>\n",
       "      <th>Phenols</th>\n",
       "      <th>Flavanoids</th>\n",
       "      <th>Nonflavanoid.phenols</th>\n",
       "      <th>Proanth</th>\n",
       "      <th>Color.int</th>\n",
       "      <th>Hue</th>\n",
       "      <th>OD</th>\n",
       "      <th>Proline</th>\n",
       "    </tr>\n",
       "  </thead>\n",
       "  <tbody>\n",
       "    <tr>\n",
       "      <th>0</th>\n",
       "      <td>1</td>\n",
       "      <td>14.23</td>\n",
       "      <td>1.71</td>\n",
       "      <td>2.43</td>\n",
       "      <td>15.6</td>\n",
       "      <td>127</td>\n",
       "      <td>2.80</td>\n",
       "      <td>3.06</td>\n",
       "      <td>0.28</td>\n",
       "      <td>2.29</td>\n",
       "      <td>5.64</td>\n",
       "      <td>1.04</td>\n",
       "      <td>3.92</td>\n",
       "      <td>1065</td>\n",
       "    </tr>\n",
       "    <tr>\n",
       "      <th>1</th>\n",
       "      <td>1</td>\n",
       "      <td>13.20</td>\n",
       "      <td>1.78</td>\n",
       "      <td>2.14</td>\n",
       "      <td>11.2</td>\n",
       "      <td>100</td>\n",
       "      <td>2.65</td>\n",
       "      <td>2.76</td>\n",
       "      <td>0.26</td>\n",
       "      <td>1.28</td>\n",
       "      <td>4.38</td>\n",
       "      <td>1.05</td>\n",
       "      <td>3.40</td>\n",
       "      <td>1050</td>\n",
       "    </tr>\n",
       "    <tr>\n",
       "      <th>2</th>\n",
       "      <td>1</td>\n",
       "      <td>13.16</td>\n",
       "      <td>2.36</td>\n",
       "      <td>2.67</td>\n",
       "      <td>18.6</td>\n",
       "      <td>101</td>\n",
       "      <td>2.80</td>\n",
       "      <td>3.24</td>\n",
       "      <td>0.30</td>\n",
       "      <td>2.81</td>\n",
       "      <td>5.68</td>\n",
       "      <td>1.03</td>\n",
       "      <td>3.17</td>\n",
       "      <td>1185</td>\n",
       "    </tr>\n",
       "    <tr>\n",
       "      <th>3</th>\n",
       "      <td>1</td>\n",
       "      <td>14.37</td>\n",
       "      <td>1.95</td>\n",
       "      <td>2.50</td>\n",
       "      <td>16.8</td>\n",
       "      <td>113</td>\n",
       "      <td>3.85</td>\n",
       "      <td>3.49</td>\n",
       "      <td>0.24</td>\n",
       "      <td>2.18</td>\n",
       "      <td>7.80</td>\n",
       "      <td>0.86</td>\n",
       "      <td>3.45</td>\n",
       "      <td>1480</td>\n",
       "    </tr>\n",
       "    <tr>\n",
       "      <th>4</th>\n",
       "      <td>1</td>\n",
       "      <td>13.24</td>\n",
       "      <td>2.59</td>\n",
       "      <td>2.87</td>\n",
       "      <td>21.0</td>\n",
       "      <td>118</td>\n",
       "      <td>2.80</td>\n",
       "      <td>2.69</td>\n",
       "      <td>0.39</td>\n",
       "      <td>1.82</td>\n",
       "      <td>4.32</td>\n",
       "      <td>1.04</td>\n",
       "      <td>2.93</td>\n",
       "      <td>735</td>\n",
       "    </tr>\n",
       "    <tr>\n",
       "      <th>...</th>\n",
       "      <td>...</td>\n",
       "      <td>...</td>\n",
       "      <td>...</td>\n",
       "      <td>...</td>\n",
       "      <td>...</td>\n",
       "      <td>...</td>\n",
       "      <td>...</td>\n",
       "      <td>...</td>\n",
       "      <td>...</td>\n",
       "      <td>...</td>\n",
       "      <td>...</td>\n",
       "      <td>...</td>\n",
       "      <td>...</td>\n",
       "      <td>...</td>\n",
       "    </tr>\n",
       "    <tr>\n",
       "      <th>173</th>\n",
       "      <td>3</td>\n",
       "      <td>13.71</td>\n",
       "      <td>5.65</td>\n",
       "      <td>2.45</td>\n",
       "      <td>20.5</td>\n",
       "      <td>95</td>\n",
       "      <td>1.68</td>\n",
       "      <td>0.61</td>\n",
       "      <td>0.52</td>\n",
       "      <td>1.06</td>\n",
       "      <td>7.70</td>\n",
       "      <td>0.64</td>\n",
       "      <td>1.74</td>\n",
       "      <td>740</td>\n",
       "    </tr>\n",
       "    <tr>\n",
       "      <th>174</th>\n",
       "      <td>3</td>\n",
       "      <td>13.40</td>\n",
       "      <td>3.91</td>\n",
       "      <td>2.48</td>\n",
       "      <td>23.0</td>\n",
       "      <td>102</td>\n",
       "      <td>1.80</td>\n",
       "      <td>0.75</td>\n",
       "      <td>0.43</td>\n",
       "      <td>1.41</td>\n",
       "      <td>7.30</td>\n",
       "      <td>0.70</td>\n",
       "      <td>1.56</td>\n",
       "      <td>750</td>\n",
       "    </tr>\n",
       "    <tr>\n",
       "      <th>175</th>\n",
       "      <td>3</td>\n",
       "      <td>13.27</td>\n",
       "      <td>4.28</td>\n",
       "      <td>2.26</td>\n",
       "      <td>20.0</td>\n",
       "      <td>120</td>\n",
       "      <td>1.59</td>\n",
       "      <td>0.69</td>\n",
       "      <td>0.43</td>\n",
       "      <td>1.35</td>\n",
       "      <td>10.20</td>\n",
       "      <td>0.59</td>\n",
       "      <td>1.56</td>\n",
       "      <td>835</td>\n",
       "    </tr>\n",
       "    <tr>\n",
       "      <th>176</th>\n",
       "      <td>3</td>\n",
       "      <td>13.17</td>\n",
       "      <td>2.59</td>\n",
       "      <td>2.37</td>\n",
       "      <td>20.0</td>\n",
       "      <td>120</td>\n",
       "      <td>1.65</td>\n",
       "      <td>0.68</td>\n",
       "      <td>0.53</td>\n",
       "      <td>1.46</td>\n",
       "      <td>9.30</td>\n",
       "      <td>0.60</td>\n",
       "      <td>1.62</td>\n",
       "      <td>840</td>\n",
       "    </tr>\n",
       "    <tr>\n",
       "      <th>177</th>\n",
       "      <td>3</td>\n",
       "      <td>14.13</td>\n",
       "      <td>4.10</td>\n",
       "      <td>2.74</td>\n",
       "      <td>24.5</td>\n",
       "      <td>96</td>\n",
       "      <td>2.05</td>\n",
       "      <td>0.76</td>\n",
       "      <td>0.56</td>\n",
       "      <td>1.35</td>\n",
       "      <td>9.20</td>\n",
       "      <td>0.61</td>\n",
       "      <td>1.60</td>\n",
       "      <td>560</td>\n",
       "    </tr>\n",
       "  </tbody>\n",
       "</table>\n",
       "<p>178 rows × 14 columns</p>\n",
       "</div>"
      ],
      "text/plain": [
       "     Wine  Alcohol  Malic.acid   Ash   Acl   Mg  Phenols  Flavanoids  \\\n",
       "0       1    14.23        1.71  2.43  15.6  127     2.80        3.06   \n",
       "1       1    13.20        1.78  2.14  11.2  100     2.65        2.76   \n",
       "2       1    13.16        2.36  2.67  18.6  101     2.80        3.24   \n",
       "3       1    14.37        1.95  2.50  16.8  113     3.85        3.49   \n",
       "4       1    13.24        2.59  2.87  21.0  118     2.80        2.69   \n",
       "..    ...      ...         ...   ...   ...  ...      ...         ...   \n",
       "173     3    13.71        5.65  2.45  20.5   95     1.68        0.61   \n",
       "174     3    13.40        3.91  2.48  23.0  102     1.80        0.75   \n",
       "175     3    13.27        4.28  2.26  20.0  120     1.59        0.69   \n",
       "176     3    13.17        2.59  2.37  20.0  120     1.65        0.68   \n",
       "177     3    14.13        4.10  2.74  24.5   96     2.05        0.76   \n",
       "\n",
       "     Nonflavanoid.phenols  Proanth  Color.int   Hue    OD  Proline  \n",
       "0                    0.28     2.29       5.64  1.04  3.92     1065  \n",
       "1                    0.26     1.28       4.38  1.05  3.40     1050  \n",
       "2                    0.30     2.81       5.68  1.03  3.17     1185  \n",
       "3                    0.24     2.18       7.80  0.86  3.45     1480  \n",
       "4                    0.39     1.82       4.32  1.04  2.93      735  \n",
       "..                    ...      ...        ...   ...   ...      ...  \n",
       "173                  0.52     1.06       7.70  0.64  1.74      740  \n",
       "174                  0.43     1.41       7.30  0.70  1.56      750  \n",
       "175                  0.43     1.35      10.20  0.59  1.56      835  \n",
       "176                  0.53     1.46       9.30  0.60  1.62      840  \n",
       "177                  0.56     1.35       9.20  0.61  1.60      560  \n",
       "\n",
       "[178 rows x 14 columns]"
      ]
     },
     "execution_count": 34,
     "metadata": {},
     "output_type": "execute_result"
    }
   ],
   "source": [
    "df = pd.read_csv(r\"C:\\Users\\Rutuja Salunke\\Downloads\\9408623-b237fa5848349a14a14e5d4107dc7897c21951f5\\9408623-b237fa5848349a14a14e5d4107dc7897c21951f5\\wine.csv\")\n",
    "df"
   ]
  },
  {
   "cell_type": "markdown",
   "id": "f5c158e7",
   "metadata": {},
   "source": [
    "##  EDA"
   ]
  },
  {
   "cell_type": "code",
   "execution_count": 35,
   "id": "a2466362",
   "metadata": {},
   "outputs": [
    {
     "data": {
      "text/plain": [
       "(178, 14)"
      ]
     },
     "execution_count": 35,
     "metadata": {},
     "output_type": "execute_result"
    }
   ],
   "source": [
    "df.shape"
   ]
  },
  {
   "cell_type": "code",
   "execution_count": 36,
   "id": "46ab7dfe",
   "metadata": {},
   "outputs": [
    {
     "name": "stdout",
     "output_type": "stream",
     "text": [
      "<class 'pandas.core.frame.DataFrame'>\n",
      "RangeIndex: 178 entries, 0 to 177\n",
      "Data columns (total 14 columns):\n",
      " #   Column                Non-Null Count  Dtype  \n",
      "---  ------                --------------  -----  \n",
      " 0   Wine                  178 non-null    int64  \n",
      " 1   Alcohol               178 non-null    float64\n",
      " 2   Malic.acid            178 non-null    float64\n",
      " 3   Ash                   178 non-null    float64\n",
      " 4   Acl                   178 non-null    float64\n",
      " 5   Mg                    178 non-null    int64  \n",
      " 6   Phenols               178 non-null    float64\n",
      " 7   Flavanoids            178 non-null    float64\n",
      " 8   Nonflavanoid.phenols  178 non-null    float64\n",
      " 9   Proanth               178 non-null    float64\n",
      " 10  Color.int             178 non-null    float64\n",
      " 11  Hue                   178 non-null    float64\n",
      " 12  OD                    178 non-null    float64\n",
      " 13  Proline               178 non-null    int64  \n",
      "dtypes: float64(11), int64(3)\n",
      "memory usage: 19.6 KB\n"
     ]
    }
   ],
   "source": [
    "df.info()"
   ]
  },
  {
   "cell_type": "code",
   "execution_count": 37,
   "id": "fd17eee5",
   "metadata": {},
   "outputs": [
    {
     "data": {
      "text/plain": [
       "Wine                    0\n",
       "Alcohol                 0\n",
       "Malic.acid              0\n",
       "Ash                     0\n",
       "Acl                     0\n",
       "Mg                      0\n",
       "Phenols                 0\n",
       "Flavanoids              0\n",
       "Nonflavanoid.phenols    0\n",
       "Proanth                 0\n",
       "Color.int               0\n",
       "Hue                     0\n",
       "OD                      0\n",
       "Proline                 0\n",
       "dtype: int64"
      ]
     },
     "execution_count": 37,
     "metadata": {},
     "output_type": "execute_result"
    }
   ],
   "source": [
    "df.isna().sum()"
   ]
  },
  {
   "cell_type": "code",
   "execution_count": 38,
   "id": "cfc0df8c",
   "metadata": {},
   "outputs": [
    {
     "data": {
      "text/html": [
       "<div>\n",
       "<style scoped>\n",
       "    .dataframe tbody tr th:only-of-type {\n",
       "        vertical-align: middle;\n",
       "    }\n",
       "\n",
       "    .dataframe tbody tr th {\n",
       "        vertical-align: top;\n",
       "    }\n",
       "\n",
       "    .dataframe thead th {\n",
       "        text-align: right;\n",
       "    }\n",
       "</style>\n",
       "<table border=\"1\" class=\"dataframe\">\n",
       "  <thead>\n",
       "    <tr style=\"text-align: right;\">\n",
       "      <th></th>\n",
       "      <th>Wine</th>\n",
       "      <th>Alcohol</th>\n",
       "      <th>Malic.acid</th>\n",
       "      <th>Ash</th>\n",
       "      <th>Acl</th>\n",
       "      <th>Mg</th>\n",
       "      <th>Phenols</th>\n",
       "      <th>Flavanoids</th>\n",
       "      <th>Nonflavanoid.phenols</th>\n",
       "      <th>Proanth</th>\n",
       "      <th>Color.int</th>\n",
       "      <th>Hue</th>\n",
       "      <th>OD</th>\n",
       "      <th>Proline</th>\n",
       "    </tr>\n",
       "  </thead>\n",
       "  <tbody>\n",
       "    <tr>\n",
       "      <th>count</th>\n",
       "      <td>178.000000</td>\n",
       "      <td>178.000000</td>\n",
       "      <td>178.000000</td>\n",
       "      <td>178.000000</td>\n",
       "      <td>178.000000</td>\n",
       "      <td>178.000000</td>\n",
       "      <td>178.000000</td>\n",
       "      <td>178.000000</td>\n",
       "      <td>178.000000</td>\n",
       "      <td>178.000000</td>\n",
       "      <td>178.000000</td>\n",
       "      <td>178.000000</td>\n",
       "      <td>178.000000</td>\n",
       "      <td>178.000000</td>\n",
       "    </tr>\n",
       "    <tr>\n",
       "      <th>mean</th>\n",
       "      <td>1.938202</td>\n",
       "      <td>13.000618</td>\n",
       "      <td>2.336348</td>\n",
       "      <td>2.366517</td>\n",
       "      <td>19.494944</td>\n",
       "      <td>99.741573</td>\n",
       "      <td>2.295112</td>\n",
       "      <td>2.029270</td>\n",
       "      <td>0.361854</td>\n",
       "      <td>1.590899</td>\n",
       "      <td>5.058090</td>\n",
       "      <td>0.957449</td>\n",
       "      <td>2.611685</td>\n",
       "      <td>746.893258</td>\n",
       "    </tr>\n",
       "    <tr>\n",
       "      <th>std</th>\n",
       "      <td>0.775035</td>\n",
       "      <td>0.811827</td>\n",
       "      <td>1.117146</td>\n",
       "      <td>0.274344</td>\n",
       "      <td>3.339564</td>\n",
       "      <td>14.282484</td>\n",
       "      <td>0.625851</td>\n",
       "      <td>0.998859</td>\n",
       "      <td>0.124453</td>\n",
       "      <td>0.572359</td>\n",
       "      <td>2.318286</td>\n",
       "      <td>0.228572</td>\n",
       "      <td>0.709990</td>\n",
       "      <td>314.907474</td>\n",
       "    </tr>\n",
       "    <tr>\n",
       "      <th>min</th>\n",
       "      <td>1.000000</td>\n",
       "      <td>11.030000</td>\n",
       "      <td>0.740000</td>\n",
       "      <td>1.360000</td>\n",
       "      <td>10.600000</td>\n",
       "      <td>70.000000</td>\n",
       "      <td>0.980000</td>\n",
       "      <td>0.340000</td>\n",
       "      <td>0.130000</td>\n",
       "      <td>0.410000</td>\n",
       "      <td>1.280000</td>\n",
       "      <td>0.480000</td>\n",
       "      <td>1.270000</td>\n",
       "      <td>278.000000</td>\n",
       "    </tr>\n",
       "    <tr>\n",
       "      <th>25%</th>\n",
       "      <td>1.000000</td>\n",
       "      <td>12.362500</td>\n",
       "      <td>1.602500</td>\n",
       "      <td>2.210000</td>\n",
       "      <td>17.200000</td>\n",
       "      <td>88.000000</td>\n",
       "      <td>1.742500</td>\n",
       "      <td>1.205000</td>\n",
       "      <td>0.270000</td>\n",
       "      <td>1.250000</td>\n",
       "      <td>3.220000</td>\n",
       "      <td>0.782500</td>\n",
       "      <td>1.937500</td>\n",
       "      <td>500.500000</td>\n",
       "    </tr>\n",
       "    <tr>\n",
       "      <th>50%</th>\n",
       "      <td>2.000000</td>\n",
       "      <td>13.050000</td>\n",
       "      <td>1.865000</td>\n",
       "      <td>2.360000</td>\n",
       "      <td>19.500000</td>\n",
       "      <td>98.000000</td>\n",
       "      <td>2.355000</td>\n",
       "      <td>2.135000</td>\n",
       "      <td>0.340000</td>\n",
       "      <td>1.555000</td>\n",
       "      <td>4.690000</td>\n",
       "      <td>0.965000</td>\n",
       "      <td>2.780000</td>\n",
       "      <td>673.500000</td>\n",
       "    </tr>\n",
       "    <tr>\n",
       "      <th>75%</th>\n",
       "      <td>3.000000</td>\n",
       "      <td>13.677500</td>\n",
       "      <td>3.082500</td>\n",
       "      <td>2.557500</td>\n",
       "      <td>21.500000</td>\n",
       "      <td>107.000000</td>\n",
       "      <td>2.800000</td>\n",
       "      <td>2.875000</td>\n",
       "      <td>0.437500</td>\n",
       "      <td>1.950000</td>\n",
       "      <td>6.200000</td>\n",
       "      <td>1.120000</td>\n",
       "      <td>3.170000</td>\n",
       "      <td>985.000000</td>\n",
       "    </tr>\n",
       "    <tr>\n",
       "      <th>max</th>\n",
       "      <td>3.000000</td>\n",
       "      <td>14.830000</td>\n",
       "      <td>5.800000</td>\n",
       "      <td>3.230000</td>\n",
       "      <td>30.000000</td>\n",
       "      <td>162.000000</td>\n",
       "      <td>3.880000</td>\n",
       "      <td>5.080000</td>\n",
       "      <td>0.660000</td>\n",
       "      <td>3.580000</td>\n",
       "      <td>13.000000</td>\n",
       "      <td>1.710000</td>\n",
       "      <td>4.000000</td>\n",
       "      <td>1680.000000</td>\n",
       "    </tr>\n",
       "  </tbody>\n",
       "</table>\n",
       "</div>"
      ],
      "text/plain": [
       "             Wine     Alcohol  Malic.acid         Ash         Acl          Mg  \\\n",
       "count  178.000000  178.000000  178.000000  178.000000  178.000000  178.000000   \n",
       "mean     1.938202   13.000618    2.336348    2.366517   19.494944   99.741573   \n",
       "std      0.775035    0.811827    1.117146    0.274344    3.339564   14.282484   \n",
       "min      1.000000   11.030000    0.740000    1.360000   10.600000   70.000000   \n",
       "25%      1.000000   12.362500    1.602500    2.210000   17.200000   88.000000   \n",
       "50%      2.000000   13.050000    1.865000    2.360000   19.500000   98.000000   \n",
       "75%      3.000000   13.677500    3.082500    2.557500   21.500000  107.000000   \n",
       "max      3.000000   14.830000    5.800000    3.230000   30.000000  162.000000   \n",
       "\n",
       "          Phenols  Flavanoids  Nonflavanoid.phenols     Proanth   Color.int  \\\n",
       "count  178.000000  178.000000            178.000000  178.000000  178.000000   \n",
       "mean     2.295112    2.029270              0.361854    1.590899    5.058090   \n",
       "std      0.625851    0.998859              0.124453    0.572359    2.318286   \n",
       "min      0.980000    0.340000              0.130000    0.410000    1.280000   \n",
       "25%      1.742500    1.205000              0.270000    1.250000    3.220000   \n",
       "50%      2.355000    2.135000              0.340000    1.555000    4.690000   \n",
       "75%      2.800000    2.875000              0.437500    1.950000    6.200000   \n",
       "max      3.880000    5.080000              0.660000    3.580000   13.000000   \n",
       "\n",
       "              Hue          OD      Proline  \n",
       "count  178.000000  178.000000   178.000000  \n",
       "mean     0.957449    2.611685   746.893258  \n",
       "std      0.228572    0.709990   314.907474  \n",
       "min      0.480000    1.270000   278.000000  \n",
       "25%      0.782500    1.937500   500.500000  \n",
       "50%      0.965000    2.780000   673.500000  \n",
       "75%      1.120000    3.170000   985.000000  \n",
       "max      1.710000    4.000000  1680.000000  "
      ]
     },
     "execution_count": 38,
     "metadata": {},
     "output_type": "execute_result"
    }
   ],
   "source": [
    "df.describe()"
   ]
  },
  {
   "cell_type": "markdown",
   "id": "90841411",
   "metadata": {},
   "source": [
    "##  Feature Engineering"
   ]
  },
  {
   "cell_type": "markdown",
   "id": "d23cdc78",
   "metadata": {},
   "source": [
    "#### To find outliers"
   ]
  },
  {
   "cell_type": "code",
   "execution_count": 39,
   "id": "ed32e8e6",
   "metadata": {},
   "outputs": [
    {
     "data": {
      "text/plain": [
       "Wine                    0\n",
       "Alcohol                 0\n",
       "Malic.acid              3\n",
       "Ash                     3\n",
       "Acl                     4\n",
       "Mg                      4\n",
       "Phenols                 0\n",
       "Flavanoids              0\n",
       "Nonflavanoid.phenols    0\n",
       "Proanth                 2\n",
       "Color.int               4\n",
       "Hue                     1\n",
       "OD                      0\n",
       "Proline                 0\n",
       "dtype: int64"
      ]
     },
     "execution_count": 39,
     "metadata": {},
     "output_type": "execute_result"
    }
   ],
   "source": [
    "Q1 = df.quantile(0.25)\n",
    "Q3 = df.quantile(0.75)\n",
    "IQR = Q3-Q1\n",
    "\n",
    "lower_tail = Q1- 1.5 * IQR\n",
    "upper_tail = Q3+ 1.5 * IQR\n",
    "\n",
    "outliers = (df < lower_tail) | (df > upper_tail)\n",
    "outliers_count = outliers.sum()\n",
    "outliers_count"
   ]
  },
  {
   "cell_type": "markdown",
   "id": "545d219d",
   "metadata": {},
   "source": [
    "#### To replace outliers"
   ]
  },
  {
   "cell_type": "code",
   "execution_count": 40,
   "id": "e306057e",
   "metadata": {},
   "outputs": [
    {
     "name": "stdout",
     "output_type": "stream",
     "text": [
      "-0.6174999999999997\n",
      "5.3025\n",
      "1.6887499999999998\n",
      "3.0787500000000003\n",
      "10.749999999999998\n",
      "27.950000000000003\n",
      "59.5\n",
      "135.5\n",
      "0.20000000000000018\n",
      "3.0\n",
      "-1.2500000000000009\n",
      "10.670000000000002\n",
      "0.2762499999999998\n",
      "1.6262500000000002\n"
     ]
    }
   ],
   "source": [
    "def Finding_outliar1(df,columns):\n",
    "    for column in columns:\n",
    "            q1 = df[column].quantile(0.25)\n",
    "            q3 = df[column].quantile(0.75)\n",
    "            iqr = q3 - q1\n",
    "\n",
    "            lower_tail1 = q1 - 1.5 * iqr\n",
    "            upper_tail1 = q3 + 1.5 * iqr\n",
    "            print(lower_tail1)\n",
    "            print(upper_tail1)\n",
    "            \n",
    "            df[column] = df[column].apply(lambda x : upper_tail1 if x > upper_tail1 else (lower_tail1 if x < lower_tail1 else x))\n",
    "columns = [\"Malic.acid\",\"Ash\",\"Acl\",\"Mg\",\"Proanth\",\"Color.int\",\"Hue\"]\n",
    "Finding_outliar1(df,columns)"
   ]
  },
  {
   "cell_type": "markdown",
   "id": "42a29baa",
   "metadata": {},
   "source": [
    "# PCA"
   ]
  },
  {
   "cell_type": "code",
   "execution_count": 41,
   "id": "ffa450c4",
   "metadata": {},
   "outputs": [
    {
     "data": {
      "text/html": [
       "<div>\n",
       "<style scoped>\n",
       "    .dataframe tbody tr th:only-of-type {\n",
       "        vertical-align: middle;\n",
       "    }\n",
       "\n",
       "    .dataframe tbody tr th {\n",
       "        vertical-align: top;\n",
       "    }\n",
       "\n",
       "    .dataframe thead th {\n",
       "        text-align: right;\n",
       "    }\n",
       "</style>\n",
       "<table border=\"1\" class=\"dataframe\">\n",
       "  <thead>\n",
       "    <tr style=\"text-align: right;\">\n",
       "      <th></th>\n",
       "      <th>Wine</th>\n",
       "      <th>Alcohol</th>\n",
       "      <th>Malic.acid</th>\n",
       "      <th>Ash</th>\n",
       "      <th>Acl</th>\n",
       "      <th>Mg</th>\n",
       "      <th>Phenols</th>\n",
       "      <th>Flavanoids</th>\n",
       "      <th>Nonflavanoid.phenols</th>\n",
       "      <th>Proanth</th>\n",
       "      <th>Color.int</th>\n",
       "      <th>Hue</th>\n",
       "      <th>OD</th>\n",
       "      <th>Proline</th>\n",
       "    </tr>\n",
       "  </thead>\n",
       "  <tbody>\n",
       "    <tr>\n",
       "      <th>0</th>\n",
       "      <td>-1.213944</td>\n",
       "      <td>1.518613</td>\n",
       "      <td>-0.565534</td>\n",
       "      <td>0.240640</td>\n",
       "      <td>-1.182882</td>\n",
       "      <td>2.057111</td>\n",
       "      <td>0.808997</td>\n",
       "      <td>1.034819</td>\n",
       "      <td>-0.659563</td>\n",
       "      <td>1.264740</td>\n",
       "      <td>0.266954</td>\n",
       "      <td>0.366610</td>\n",
       "      <td>1.847920</td>\n",
       "      <td>1.013009</td>\n",
       "    </tr>\n",
       "    <tr>\n",
       "      <th>1</th>\n",
       "      <td>-1.213944</td>\n",
       "      <td>0.246290</td>\n",
       "      <td>-0.501728</td>\n",
       "      <td>-0.862176</td>\n",
       "      <td>-2.524956</td>\n",
       "      <td>0.038639</td>\n",
       "      <td>0.568648</td>\n",
       "      <td>0.733629</td>\n",
       "      <td>-0.820719</td>\n",
       "      <td>-0.549904</td>\n",
       "      <td>-0.291923</td>\n",
       "      <td>0.410768</td>\n",
       "      <td>1.113449</td>\n",
       "      <td>0.965242</td>\n",
       "    </tr>\n",
       "    <tr>\n",
       "      <th>2</th>\n",
       "      <td>-1.213944</td>\n",
       "      <td>0.196879</td>\n",
       "      <td>0.026948</td>\n",
       "      <td>1.153315</td>\n",
       "      <td>-0.267832</td>\n",
       "      <td>0.113397</td>\n",
       "      <td>0.808997</td>\n",
       "      <td>1.215533</td>\n",
       "      <td>-0.498407</td>\n",
       "      <td>2.199012</td>\n",
       "      <td>0.284696</td>\n",
       "      <td>0.322451</td>\n",
       "      <td>0.788587</td>\n",
       "      <td>1.395148</td>\n",
       "    </tr>\n",
       "    <tr>\n",
       "      <th>3</th>\n",
       "      <td>-1.213944</td>\n",
       "      <td>1.691550</td>\n",
       "      <td>-0.346771</td>\n",
       "      <td>0.506837</td>\n",
       "      <td>-0.816862</td>\n",
       "      <td>1.010496</td>\n",
       "      <td>2.491446</td>\n",
       "      <td>1.466525</td>\n",
       "      <td>-0.981875</td>\n",
       "      <td>1.067105</td>\n",
       "      <td>1.225029</td>\n",
       "      <td>-0.428246</td>\n",
       "      <td>1.184071</td>\n",
       "      <td>2.334574</td>\n",
       "    </tr>\n",
       "    <tr>\n",
       "      <th>4</th>\n",
       "      <td>-1.213944</td>\n",
       "      <td>0.295700</td>\n",
       "      <td>0.236596</td>\n",
       "      <td>1.913878</td>\n",
       "      <td>0.464208</td>\n",
       "      <td>1.384287</td>\n",
       "      <td>0.808997</td>\n",
       "      <td>0.663351</td>\n",
       "      <td>0.226796</td>\n",
       "      <td>0.420301</td>\n",
       "      <td>-0.318536</td>\n",
       "      <td>0.366610</td>\n",
       "      <td>0.449601</td>\n",
       "      <td>-0.037874</td>\n",
       "    </tr>\n",
       "  </tbody>\n",
       "</table>\n",
       "</div>"
      ],
      "text/plain": [
       "       Wine   Alcohol  Malic.acid       Ash       Acl        Mg   Phenols  \\\n",
       "0 -1.213944  1.518613   -0.565534  0.240640 -1.182882  2.057111  0.808997   \n",
       "1 -1.213944  0.246290   -0.501728 -0.862176 -2.524956  0.038639  0.568648   \n",
       "2 -1.213944  0.196879    0.026948  1.153315 -0.267832  0.113397  0.808997   \n",
       "3 -1.213944  1.691550   -0.346771  0.506837 -0.816862  1.010496  2.491446   \n",
       "4 -1.213944  0.295700    0.236596  1.913878  0.464208  1.384287  0.808997   \n",
       "\n",
       "   Flavanoids  Nonflavanoid.phenols   Proanth  Color.int       Hue        OD  \\\n",
       "0    1.034819             -0.659563  1.264740   0.266954  0.366610  1.847920   \n",
       "1    0.733629             -0.820719 -0.549904  -0.291923  0.410768  1.113449   \n",
       "2    1.215533             -0.498407  2.199012   0.284696  0.322451  0.788587   \n",
       "3    1.466525             -0.981875  1.067105   1.225029 -0.428246  1.184071   \n",
       "4    0.663351              0.226796  0.420301  -0.318536  0.366610  0.449601   \n",
       "\n",
       "    Proline  \n",
       "0  1.013009  \n",
       "1  0.965242  \n",
       "2  1.395148  \n",
       "3  2.334574  \n",
       "4 -0.037874  "
      ]
     },
     "execution_count": 41,
     "metadata": {},
     "output_type": "execute_result"
    }
   ],
   "source": [
    "Std = StandardScaler()\n",
    "Standard_array = Std.fit_transform(df)\n",
    "Df_Std = pd.DataFrame(Standard_array, columns = df.columns)\n",
    "Df_Std.head()"
   ]
  },
  {
   "cell_type": "code",
   "execution_count": 80,
   "id": "47d26d02",
   "metadata": {},
   "outputs": [
    {
     "data": {
      "text/plain": [
       "array([[ 1.00564972, -0.3300763 ,  0.44290993, -0.0479489 ,  0.52857771,\n",
       "        -0.22553135, -0.72322641, -0.85228566,  0.49187249, -0.51542323,\n",
       "         0.26173003, -0.62506063, -0.79268286, -0.63729711],\n",
       "       [-0.3300763 ,  1.00564972,  0.09529158,  0.2214182 , -0.31395502,\n",
       "         0.30388006,  0.29073446,  0.23815287, -0.15681042,  0.15403617,\n",
       "         0.55220976, -0.06753548,  0.07275191,  0.64735687],\n",
       "       [ 0.44290993,  0.09529158,  1.00564972,  0.16755524,  0.29755329,\n",
       "        -0.03955084, -0.34096566, -0.41721865,  0.29586545, -0.2358999 ,\n",
       "         0.26639339, -0.56960856, -0.37468661, -0.19225258],\n",
       "       [-0.0479489 ,  0.2214182 ,  0.16755524,  1.00564972,  0.43012909,\n",
       "         0.32433258,  0.12513898,  0.09811293,  0.18470352,  0.00611461,\n",
       "         0.25825004, -0.07633311, -0.01127709,  0.23097325],\n",
       "       [ 0.52857771, -0.31395502,  0.29755329,  0.43012909,  1.00564972,\n",
       "        -0.09858424, -0.33492783, -0.36545785,  0.37136184, -0.20997347,\n",
       "         0.00980346, -0.28828387, -0.28865319, -0.45123486],\n",
       "       [-0.22553135,  0.30388006, -0.03955084,  0.32433258, -0.09858424,\n",
       "         1.00564972,  0.22831719,  0.21061466, -0.25711879,  0.20256604,\n",
       "         0.24186388,  0.04023258,  0.06438116,  0.41388196],\n",
       "       [-0.72322641,  0.29073446, -0.34096566,  0.12513898, -0.33492783,\n",
       "         0.22831719,  1.00564972,  0.86944804, -0.45247731,  0.62226725,\n",
       "        -0.0624522 ,  0.43841491,  0.70390388,  0.50092909],\n",
       "       [-0.85228566,  0.23815287, -0.41721865,  0.09811293, -0.36545785,\n",
       "         0.21061466,  0.86944804,  1.00564972, -0.54093859,  0.66914305,\n",
       "        -0.17076669,  0.54980714,  0.79164133,  0.49698518],\n",
       "       [ 0.49187249, -0.15681042,  0.29586545,  0.18470352,  0.37136184,\n",
       "        -0.25711879, -0.45247731, -0.54093859,  1.00564972, -0.37053673,\n",
       "         0.13233961, -0.2685032 , -0.50611293, -0.31314443],\n",
       "       [-0.51542323,  0.15403617, -0.2358999 ,  0.00611461, -0.20997347,\n",
       "         0.20256604,  0.62226725,  0.66914305, -0.37053673,  1.00564972,\n",
       "        -0.03287775,  0.30801969,  0.53356278,  0.34248643],\n",
       "       [ 0.26173003,  0.55220976,  0.26639339,  0.25825004,  0.00980346,\n",
       "         0.24186388, -0.0624522 , -0.17076669,  0.13233961, -0.03287775,\n",
       "         1.00564972, -0.52335617, -0.43307072,  0.32894767],\n",
       "       [-0.62506063, -0.06753548, -0.56960856, -0.07633311, -0.28828387,\n",
       "         0.04023258,  0.43841491,  0.54980714, -0.2685032 ,  0.30801969,\n",
       "        -0.52335617,  1.00564972,  0.57159775,  0.24132357],\n",
       "       [-0.79268286,  0.07275191, -0.37468661, -0.01127709, -0.28865319,\n",
       "         0.06438116,  0.70390388,  0.79164133, -0.50611293,  0.53356278,\n",
       "        -0.43307072,  0.57159775,  1.00564972,  0.31452809],\n",
       "       [-0.63729711,  0.64735687, -0.19225258,  0.23097325, -0.45123486,\n",
       "         0.41388196,  0.50092909,  0.49698518, -0.31314443,  0.34248643,\n",
       "         0.32894767,  0.24132357,  0.31452809,  1.00564972]])"
      ]
     },
     "execution_count": 80,
     "metadata": {},
     "output_type": "execute_result"
    }
   ],
   "source": [
    "cov_matrix = np.cov(Df_Std.T)\n",
    "cov_matrix"
   ]
  },
  {
   "cell_type": "code",
   "execution_count": 81,
   "id": "5d015ac6",
   "metadata": {},
   "outputs": [
    {
     "data": {
      "text/plain": [
       "array([5.60458768, 2.56375389, 1.42651378, 0.93195358, 0.84238847,\n",
       "       0.66542266, 0.528459  , 0.05699541, 0.13456214, 0.3596558 ,\n",
       "       0.17366731, 0.29687634, 0.26475628, 0.2295037 ])"
      ]
     },
     "execution_count": 81,
     "metadata": {},
     "output_type": "execute_result"
    }
   ],
   "source": [
    "eigen_values, eigen_vectors = np.linalg.eig(cov_matrix)\n",
    "eigen_values"
   ]
  },
  {
   "cell_type": "code",
   "execution_count": 82,
   "id": "973794c3",
   "metadata": {},
   "outputs": [
    {
     "data": {
      "text/plain": [
       "array([[ 0.39251008,  0.00496269, -0.00556301, -0.10939511,  0.15361959,\n",
       "        -0.21739957, -0.04409867,  0.66431314, -0.49647966, -0.05192726,\n",
       "        -0.04619357, -0.1555718 , -0.21033925, -0.0052211 ],\n",
       "       [-0.1377818 ,  0.47689882, -0.2019702 ,  0.04501331, -0.26742089,\n",
       "         0.14074785, -0.14540143,  0.09244739, -0.01635067, -0.38030219,\n",
       "        -0.23655023, -0.50512106,  0.28157254, -0.23338822],\n",
       "       [ 0.22329763,  0.22541809,  0.08624025, -0.47958192, -0.12432757,\n",
       "         0.6199064 ,  0.35608698, -0.02332232,  0.04622811, -0.0954    ,\n",
       "         0.09693893,  0.01125568, -0.32786281,  0.08092856],\n",
       "       [-0.0009843 ,  0.31850888,  0.62967078,  0.23727958, -0.08938002,\n",
       "         0.1024996 , -0.17992039,  0.0099369 , -0.15076789,  0.12689988,\n",
       "        -0.01781974,  0.29092581, -0.11058932, -0.50870354],\n",
       "       [ 0.22883621, -0.01538238,  0.60797016, -0.09015793,  0.05741038,\n",
       "        -0.11152861, -0.27856523, -0.10117953,  0.18511242, -0.3710201 ,\n",
       "        -0.0673936 , -0.17250277,  0.13839398,  0.49060801],\n",
       "       [-0.1251569 ,  0.32622521,  0.13384644,  0.24398484,  0.72452605,\n",
       "         0.08571239,  0.40463729,  0.02215744,  0.02875374,  0.12572599,\n",
       "         0.05004746, -0.24295766,  0.13714098,  0.08359348],\n",
       "       [-0.3582432 ,  0.06153297,  0.14846374, -0.20632743, -0.11839535,\n",
       "        -0.12420725, -0.03961072, -0.25685121, -0.33155918,  0.42868212,\n",
       "        -0.38137892, -0.34236792, -0.31646044,  0.22307807],\n",
       "       [-0.38964643, -0.0046166 ,  0.14788287, -0.16082381, -0.07800838,\n",
       "        -0.05473494, -0.06016538,  0.6024526 ,  0.59788666,  0.19717061,\n",
       "         0.0424397 , -0.0821724 , -0.14090551, -0.00423996],\n",
       "       [ 0.2657193 ,  0.02489123,  0.17454208,  0.27473055, -0.54108981,\n",
       "        -0.21253552,  0.56883161,  0.07740092,  0.04413589,  0.24395685,\n",
       "         0.04933853, -0.15123214,  0.23224023,  0.12090551],\n",
       "       [-0.28231773,  0.03214222,  0.1418448 , -0.45692538,  0.04311116,\n",
       "        -0.47543691,  0.42255718, -0.06097402, -0.08781516, -0.38677006,\n",
       "        -0.07597913,  0.22203509,  0.11061335, -0.23575684],\n",
       "       [ 0.08669661,  0.52494506, -0.15115795, -0.08862819, -0.05237197,\n",
       "        -0.40922439, -0.17772399, -0.19087033,  0.07235014,  0.07593644,\n",
       "         0.60873467, -0.05953336, -0.23774689,  0.07975832],\n",
       "       [-0.27694181, -0.27227014,  0.08845697,  0.43091896, -0.09361741,\n",
       "         0.02341878,  0.16930572, -0.02621148, -0.08089862, -0.45603741,\n",
       "         0.24403679, -0.23581025, -0.53579884, -0.01538696],\n",
       "       [-0.34904433, -0.16469922,  0.16545227, -0.171825  , -0.0989259 ,\n",
       "         0.23977257, -0.09059145,  0.12689163, -0.41784455,  0.0771059 ,\n",
       "         0.56170746, -0.08595727,  0.43435492,  0.10222975],\n",
       "       [-0.26933504,  0.36240539, -0.12315971,  0.23724698, -0.13105006,\n",
       "         0.05668533,  0.02538917,  0.21661067, -0.17276169, -0.15024546,\n",
       "        -0.15512432,  0.53331211, -0.01868569,  0.54356193]])"
      ]
     },
     "execution_count": 82,
     "metadata": {},
     "output_type": "execute_result"
    }
   ],
   "source": [
    "eigen_vectors"
   ]
  },
  {
   "cell_type": "code",
   "execution_count": 83,
   "id": "3c3064bc",
   "metadata": {},
   "outputs": [
    {
     "data": {
      "text/plain": [
       "array([5.60458768, 2.56375389, 1.42651378, 0.93195358, 0.84238847,\n",
       "       0.66542266, 0.528459  , 0.3596558 , 0.29687634, 0.26475628,\n",
       "       0.2295037 , 0.17366731, 0.13456214, 0.05699541])"
      ]
     },
     "execution_count": 83,
     "metadata": {},
     "output_type": "execute_result"
    }
   ],
   "source": [
    "sorted_index = np.argsort(eigen_values)[::-1]\n",
    "sorted_eigenvalue = eigen_values[sorted_index]\n",
    "sorted_eigenvectors = eigen_vectors[:,sorted_index]\n",
    "sorted_eigenvalue"
   ]
  },
  {
   "cell_type": "code",
   "execution_count": 64,
   "id": "0e2b123e",
   "metadata": {},
   "outputs": [
    {
     "data": {
      "text/html": [
       "<div>\n",
       "<style scoped>\n",
       "    .dataframe tbody tr th:only-of-type {\n",
       "        vertical-align: middle;\n",
       "    }\n",
       "\n",
       "    .dataframe tbody tr th {\n",
       "        vertical-align: top;\n",
       "    }\n",
       "\n",
       "    .dataframe thead th {\n",
       "        text-align: right;\n",
       "    }\n",
       "</style>\n",
       "<table border=\"1\" class=\"dataframe\">\n",
       "  <thead>\n",
       "    <tr style=\"text-align: right;\">\n",
       "      <th></th>\n",
       "      <th>Alcohol</th>\n",
       "      <th>Malic.acid</th>\n",
       "      <th>Ash</th>\n",
       "      <th>Acl</th>\n",
       "      <th>Mg</th>\n",
       "      <th>Phenols</th>\n",
       "      <th>Flavanoids</th>\n",
       "      <th>Nonflavanoid.phenols</th>\n",
       "      <th>Proanth</th>\n",
       "      <th>Color.int</th>\n",
       "      <th>Hue</th>\n",
       "      <th>OD</th>\n",
       "      <th>Proline</th>\n",
       "    </tr>\n",
       "  </thead>\n",
       "  <tbody>\n",
       "    <tr>\n",
       "      <th>0</th>\n",
       "      <td>1.518613</td>\n",
       "      <td>-0.565534</td>\n",
       "      <td>0.240640</td>\n",
       "      <td>-1.182882</td>\n",
       "      <td>2.057111</td>\n",
       "      <td>0.808997</td>\n",
       "      <td>1.034819</td>\n",
       "      <td>-0.659563</td>\n",
       "      <td>1.264740</td>\n",
       "      <td>0.266954</td>\n",
       "      <td>0.366610</td>\n",
       "      <td>1.847920</td>\n",
       "      <td>1.013009</td>\n",
       "    </tr>\n",
       "    <tr>\n",
       "      <th>1</th>\n",
       "      <td>0.246290</td>\n",
       "      <td>-0.501728</td>\n",
       "      <td>-0.862176</td>\n",
       "      <td>-2.524956</td>\n",
       "      <td>0.038639</td>\n",
       "      <td>0.568648</td>\n",
       "      <td>0.733629</td>\n",
       "      <td>-0.820719</td>\n",
       "      <td>-0.549904</td>\n",
       "      <td>-0.291923</td>\n",
       "      <td>0.410768</td>\n",
       "      <td>1.113449</td>\n",
       "      <td>0.965242</td>\n",
       "    </tr>\n",
       "    <tr>\n",
       "      <th>2</th>\n",
       "      <td>0.196879</td>\n",
       "      <td>0.026948</td>\n",
       "      <td>1.153315</td>\n",
       "      <td>-0.267832</td>\n",
       "      <td>0.113397</td>\n",
       "      <td>0.808997</td>\n",
       "      <td>1.215533</td>\n",
       "      <td>-0.498407</td>\n",
       "      <td>2.199012</td>\n",
       "      <td>0.284696</td>\n",
       "      <td>0.322451</td>\n",
       "      <td>0.788587</td>\n",
       "      <td>1.395148</td>\n",
       "    </tr>\n",
       "    <tr>\n",
       "      <th>3</th>\n",
       "      <td>1.691550</td>\n",
       "      <td>-0.346771</td>\n",
       "      <td>0.506837</td>\n",
       "      <td>-0.816862</td>\n",
       "      <td>1.010496</td>\n",
       "      <td>2.491446</td>\n",
       "      <td>1.466525</td>\n",
       "      <td>-0.981875</td>\n",
       "      <td>1.067105</td>\n",
       "      <td>1.225029</td>\n",
       "      <td>-0.428246</td>\n",
       "      <td>1.184071</td>\n",
       "      <td>2.334574</td>\n",
       "    </tr>\n",
       "    <tr>\n",
       "      <th>4</th>\n",
       "      <td>0.295700</td>\n",
       "      <td>0.236596</td>\n",
       "      <td>1.913878</td>\n",
       "      <td>0.464208</td>\n",
       "      <td>1.384287</td>\n",
       "      <td>0.808997</td>\n",
       "      <td>0.663351</td>\n",
       "      <td>0.226796</td>\n",
       "      <td>0.420301</td>\n",
       "      <td>-0.318536</td>\n",
       "      <td>0.366610</td>\n",
       "      <td>0.449601</td>\n",
       "      <td>-0.037874</td>\n",
       "    </tr>\n",
       "    <tr>\n",
       "      <th>...</th>\n",
       "      <td>...</td>\n",
       "      <td>...</td>\n",
       "      <td>...</td>\n",
       "      <td>...</td>\n",
       "      <td>...</td>\n",
       "      <td>...</td>\n",
       "      <td>...</td>\n",
       "      <td>...</td>\n",
       "      <td>...</td>\n",
       "      <td>...</td>\n",
       "      <td>...</td>\n",
       "      <td>...</td>\n",
       "      <td>...</td>\n",
       "    </tr>\n",
       "    <tr>\n",
       "      <th>173</th>\n",
       "      <td>0.876275</td>\n",
       "      <td>2.709072</td>\n",
       "      <td>0.316696</td>\n",
       "      <td>0.311700</td>\n",
       "      <td>-0.335152</td>\n",
       "      <td>-0.985614</td>\n",
       "      <td>-1.424900</td>\n",
       "      <td>1.274310</td>\n",
       "      <td>-0.945173</td>\n",
       "      <td>1.180674</td>\n",
       "      <td>-1.399735</td>\n",
       "      <td>-1.231206</td>\n",
       "      <td>-0.021952</td>\n",
       "    </tr>\n",
       "    <tr>\n",
       "      <th>174</th>\n",
       "      <td>0.493343</td>\n",
       "      <td>1.439792</td>\n",
       "      <td>0.430781</td>\n",
       "      <td>1.074241</td>\n",
       "      <td>0.188156</td>\n",
       "      <td>-0.793334</td>\n",
       "      <td>-1.284344</td>\n",
       "      <td>0.549108</td>\n",
       "      <td>-0.316336</td>\n",
       "      <td>1.003253</td>\n",
       "      <td>-1.134784</td>\n",
       "      <td>-1.485445</td>\n",
       "      <td>0.009893</td>\n",
       "    </tr>\n",
       "    <tr>\n",
       "      <th>175</th>\n",
       "      <td>0.332758</td>\n",
       "      <td>1.777051</td>\n",
       "      <td>-0.405838</td>\n",
       "      <td>0.159191</td>\n",
       "      <td>1.533804</td>\n",
       "      <td>-1.129824</td>\n",
       "      <td>-1.344582</td>\n",
       "      <td>0.549108</td>\n",
       "      <td>-0.424137</td>\n",
       "      <td>2.289557</td>\n",
       "      <td>-1.620528</td>\n",
       "      <td>-1.485445</td>\n",
       "      <td>0.280575</td>\n",
       "    </tr>\n",
       "    <tr>\n",
       "      <th>176</th>\n",
       "      <td>0.209232</td>\n",
       "      <td>0.236596</td>\n",
       "      <td>0.012471</td>\n",
       "      <td>0.159191</td>\n",
       "      <td>1.533804</td>\n",
       "      <td>-1.033684</td>\n",
       "      <td>-1.354622</td>\n",
       "      <td>1.354888</td>\n",
       "      <td>-0.226502</td>\n",
       "      <td>1.890359</td>\n",
       "      <td>-1.576370</td>\n",
       "      <td>-1.400699</td>\n",
       "      <td>0.296498</td>\n",
       "    </tr>\n",
       "    <tr>\n",
       "      <th>177</th>\n",
       "      <td>1.395086</td>\n",
       "      <td>1.612979</td>\n",
       "      <td>1.419512</td>\n",
       "      <td>1.531766</td>\n",
       "      <td>-0.260394</td>\n",
       "      <td>-0.392751</td>\n",
       "      <td>-1.274305</td>\n",
       "      <td>1.596623</td>\n",
       "      <td>-0.424137</td>\n",
       "      <td>1.846004</td>\n",
       "      <td>-1.532211</td>\n",
       "      <td>-1.428948</td>\n",
       "      <td>-0.595160</td>\n",
       "    </tr>\n",
       "  </tbody>\n",
       "</table>\n",
       "<p>178 rows × 13 columns</p>\n",
       "</div>"
      ],
      "text/plain": [
       "      Alcohol  Malic.acid       Ash       Acl        Mg   Phenols  Flavanoids  \\\n",
       "0    1.518613   -0.565534  0.240640 -1.182882  2.057111  0.808997    1.034819   \n",
       "1    0.246290   -0.501728 -0.862176 -2.524956  0.038639  0.568648    0.733629   \n",
       "2    0.196879    0.026948  1.153315 -0.267832  0.113397  0.808997    1.215533   \n",
       "3    1.691550   -0.346771  0.506837 -0.816862  1.010496  2.491446    1.466525   \n",
       "4    0.295700    0.236596  1.913878  0.464208  1.384287  0.808997    0.663351   \n",
       "..        ...         ...       ...       ...       ...       ...         ...   \n",
       "173  0.876275    2.709072  0.316696  0.311700 -0.335152 -0.985614   -1.424900   \n",
       "174  0.493343    1.439792  0.430781  1.074241  0.188156 -0.793334   -1.284344   \n",
       "175  0.332758    1.777051 -0.405838  0.159191  1.533804 -1.129824   -1.344582   \n",
       "176  0.209232    0.236596  0.012471  0.159191  1.533804 -1.033684   -1.354622   \n",
       "177  1.395086    1.612979  1.419512  1.531766 -0.260394 -0.392751   -1.274305   \n",
       "\n",
       "     Nonflavanoid.phenols   Proanth  Color.int       Hue        OD   Proline  \n",
       "0               -0.659563  1.264740   0.266954  0.366610  1.847920  1.013009  \n",
       "1               -0.820719 -0.549904  -0.291923  0.410768  1.113449  0.965242  \n",
       "2               -0.498407  2.199012   0.284696  0.322451  0.788587  1.395148  \n",
       "3               -0.981875  1.067105   1.225029 -0.428246  1.184071  2.334574  \n",
       "4                0.226796  0.420301  -0.318536  0.366610  0.449601 -0.037874  \n",
       "..                    ...       ...        ...       ...       ...       ...  \n",
       "173              1.274310 -0.945173   1.180674 -1.399735 -1.231206 -0.021952  \n",
       "174              0.549108 -0.316336   1.003253 -1.134784 -1.485445  0.009893  \n",
       "175              0.549108 -0.424137   2.289557 -1.620528 -1.485445  0.280575  \n",
       "176              1.354888 -0.226502   1.890359 -1.576370 -1.400699  0.296498  \n",
       "177              1.596623 -0.424137   1.846004 -1.532211 -1.428948 -0.595160  \n",
       "\n",
       "[178 rows x 13 columns]"
      ]
     },
     "execution_count": 64,
     "metadata": {},
     "output_type": "execute_result"
    }
   ],
   "source": [
    "x = Df_Std.iloc[:,1:]\n",
    "x"
   ]
  },
  {
   "cell_type": "code",
   "execution_count": 65,
   "id": "aff014b1",
   "metadata": {},
   "outputs": [
    {
     "data": {
      "text/plain": [
       "0      1\n",
       "1      1\n",
       "2      1\n",
       "3      1\n",
       "4      1\n",
       "      ..\n",
       "173    3\n",
       "174    3\n",
       "175    3\n",
       "176    3\n",
       "177    3\n",
       "Name: Wine, Length: 178, dtype: int64"
      ]
     },
     "execution_count": 65,
     "metadata": {},
     "output_type": "execute_result"
    }
   ],
   "source": [
    "y = df.iloc[:,0]\n",
    "y"
   ]
  },
  {
   "cell_type": "markdown",
   "id": "76c73e76",
   "metadata": {},
   "source": [
    "### Model training"
   ]
  },
  {
   "cell_type": "code",
   "execution_count": 66,
   "id": "1322d75f",
   "metadata": {},
   "outputs": [],
   "source": [
    "xtrain,xtest,ytrain,ytest=train_test_split(x,y,test_size=0.2,random_state=10)"
   ]
  },
  {
   "cell_type": "code",
   "execution_count": 67,
   "id": "30e4364f",
   "metadata": {},
   "outputs": [],
   "source": [
    "PCA_1= PCA(n_components=2)\n",
    "xtrain = PCA_1.fit_transform(xtrain)\n",
    "xtest  = PCA_1.fit_transform(xtest)"
   ]
  },
  {
   "cell_type": "code",
   "execution_count": 68,
   "id": "ed09e9dc",
   "metadata": {},
   "outputs": [
    {
     "data": {
      "text/plain": [
       "array([0.38285822, 0.19356259])"
      ]
     },
     "execution_count": 68,
     "metadata": {},
     "output_type": "execute_result"
    }
   ],
   "source": [
    "PCA_1.explained_variance_ratio_"
   ]
  },
  {
   "cell_type": "code",
   "execution_count": 69,
   "id": "5994301b",
   "metadata": {},
   "outputs": [
    {
     "data": {
      "text/html": [
       "<style>#sk-container-id-2 {color: black;background-color: white;}#sk-container-id-2 pre{padding: 0;}#sk-container-id-2 div.sk-toggleable {background-color: white;}#sk-container-id-2 label.sk-toggleable__label {cursor: pointer;display: block;width: 100%;margin-bottom: 0;padding: 0.3em;box-sizing: border-box;text-align: center;}#sk-container-id-2 label.sk-toggleable__label-arrow:before {content: \"▸\";float: left;margin-right: 0.25em;color: #696969;}#sk-container-id-2 label.sk-toggleable__label-arrow:hover:before {color: black;}#sk-container-id-2 div.sk-estimator:hover label.sk-toggleable__label-arrow:before {color: black;}#sk-container-id-2 div.sk-toggleable__content {max-height: 0;max-width: 0;overflow: hidden;text-align: left;background-color: #f0f8ff;}#sk-container-id-2 div.sk-toggleable__content pre {margin: 0.2em;color: black;border-radius: 0.25em;background-color: #f0f8ff;}#sk-container-id-2 input.sk-toggleable__control:checked~div.sk-toggleable__content {max-height: 200px;max-width: 100%;overflow: auto;}#sk-container-id-2 input.sk-toggleable__control:checked~label.sk-toggleable__label-arrow:before {content: \"▾\";}#sk-container-id-2 div.sk-estimator input.sk-toggleable__control:checked~label.sk-toggleable__label {background-color: #d4ebff;}#sk-container-id-2 div.sk-label input.sk-toggleable__control:checked~label.sk-toggleable__label {background-color: #d4ebff;}#sk-container-id-2 input.sk-hidden--visually {border: 0;clip: rect(1px 1px 1px 1px);clip: rect(1px, 1px, 1px, 1px);height: 1px;margin: -1px;overflow: hidden;padding: 0;position: absolute;width: 1px;}#sk-container-id-2 div.sk-estimator {font-family: monospace;background-color: #f0f8ff;border: 1px dotted black;border-radius: 0.25em;box-sizing: border-box;margin-bottom: 0.5em;}#sk-container-id-2 div.sk-estimator:hover {background-color: #d4ebff;}#sk-container-id-2 div.sk-parallel-item::after {content: \"\";width: 100%;border-bottom: 1px solid gray;flex-grow: 1;}#sk-container-id-2 div.sk-label:hover label.sk-toggleable__label {background-color: #d4ebff;}#sk-container-id-2 div.sk-serial::before {content: \"\";position: absolute;border-left: 1px solid gray;box-sizing: border-box;top: 0;bottom: 0;left: 50%;z-index: 0;}#sk-container-id-2 div.sk-serial {display: flex;flex-direction: column;align-items: center;background-color: white;padding-right: 0.2em;padding-left: 0.2em;position: relative;}#sk-container-id-2 div.sk-item {position: relative;z-index: 1;}#sk-container-id-2 div.sk-parallel {display: flex;align-items: stretch;justify-content: center;background-color: white;position: relative;}#sk-container-id-2 div.sk-item::before, #sk-container-id-2 div.sk-parallel-item::before {content: \"\";position: absolute;border-left: 1px solid gray;box-sizing: border-box;top: 0;bottom: 0;left: 50%;z-index: -1;}#sk-container-id-2 div.sk-parallel-item {display: flex;flex-direction: column;z-index: 1;position: relative;background-color: white;}#sk-container-id-2 div.sk-parallel-item:first-child::after {align-self: flex-end;width: 50%;}#sk-container-id-2 div.sk-parallel-item:last-child::after {align-self: flex-start;width: 50%;}#sk-container-id-2 div.sk-parallel-item:only-child::after {width: 0;}#sk-container-id-2 div.sk-dashed-wrapped {border: 1px dashed gray;margin: 0 0.4em 0.5em 0.4em;box-sizing: border-box;padding-bottom: 0.4em;background-color: white;}#sk-container-id-2 div.sk-label label {font-family: monospace;font-weight: bold;display: inline-block;line-height: 1.2em;}#sk-container-id-2 div.sk-label-container {text-align: center;}#sk-container-id-2 div.sk-container {/* jupyter's `normalize.less` sets `[hidden] { display: none; }` but bootstrap.min.css set `[hidden] { display: none !important; }` so we also need the `!important` here to be able to override the default hidden behavior on the sphinx rendered scikit-learn.org. See: https://github.com/scikit-learn/scikit-learn/issues/21755 */display: inline-block !important;position: relative;}#sk-container-id-2 div.sk-text-repr-fallback {display: none;}</style><div id=\"sk-container-id-2\" class=\"sk-top-container\"><div class=\"sk-text-repr-fallback\"><pre>LogisticRegression(multi_class=&#x27;ovr&#x27;)</pre><b>In a Jupyter environment, please rerun this cell to show the HTML representation or trust the notebook. <br />On GitHub, the HTML representation is unable to render, please try loading this page with nbviewer.org.</b></div><div class=\"sk-container\" hidden><div class=\"sk-item\"><div class=\"sk-estimator sk-toggleable\"><input class=\"sk-toggleable__control sk-hidden--visually\" id=\"sk-estimator-id-2\" type=\"checkbox\" checked><label for=\"sk-estimator-id-2\" class=\"sk-toggleable__label sk-toggleable__label-arrow\">LogisticRegression</label><div class=\"sk-toggleable__content\"><pre>LogisticRegression(multi_class=&#x27;ovr&#x27;)</pre></div></div></div></div></div>"
      ],
      "text/plain": [
       "LogisticRegression(multi_class='ovr')"
      ]
     },
     "execution_count": 69,
     "metadata": {},
     "output_type": "execute_result"
    }
   ],
   "source": [
    "log1 = LogisticRegression(multi_class=\"ovr\")\n",
    "log_model1 = log1.fit(xtrain,ytrain)\n",
    "log_model1"
   ]
  },
  {
   "cell_type": "markdown",
   "id": "966d8216",
   "metadata": {},
   "source": [
    "##### training"
   ]
  },
  {
   "cell_type": "code",
   "execution_count": 70,
   "id": "a2da7427",
   "metadata": {},
   "outputs": [
    {
     "data": {
      "text/plain": [
       "95     2\n",
       "91     2\n",
       "24     1\n",
       "109    2\n",
       "121    2\n",
       "      ..\n",
       "113    2\n",
       "64     2\n",
       "15     1\n",
       "125    2\n",
       "9      1\n",
       "Name: Wine, Length: 142, dtype: int64"
      ]
     },
     "execution_count": 70,
     "metadata": {},
     "output_type": "execute_result"
    }
   ],
   "source": [
    "ytrain "
   ]
  },
  {
   "cell_type": "code",
   "execution_count": 71,
   "id": "aa7668f0",
   "metadata": {
    "scrolled": true
   },
   "outputs": [
    {
     "data": {
      "text/plain": [
       "array([1, 2, 1, 2, 2, 1, 3, 2, 1, 2, 3, 2, 2, 1, 3, 2, 3, 1, 3, 2, 1, 2,\n",
       "       3, 2, 1, 3, 3, 3, 3, 2, 2, 2, 3, 2, 1, 1, 2, 1, 1, 1, 2, 3, 1, 1,\n",
       "       3, 1, 1, 2, 3, 3, 1, 3, 3, 1, 2, 3, 1, 2, 3, 3, 2, 3, 1, 2, 1, 2,\n",
       "       1, 2, 2, 3, 3, 2, 1, 3, 2, 1, 3, 3, 2, 1, 1, 1, 2, 2, 2, 3, 1, 2,\n",
       "       1, 1, 1, 1, 3, 2, 2, 3, 3, 2, 2, 3, 2, 1, 1, 1, 1, 1, 2, 3, 2, 1,\n",
       "       2, 2, 3, 2, 1, 2, 3, 3, 1, 2, 2, 2, 2, 1, 3, 2, 1, 2, 3, 1, 1, 1,\n",
       "       1, 3, 3, 3, 2, 2, 2, 1, 2, 1], dtype=int64)"
      ]
     },
     "execution_count": 71,
     "metadata": {},
     "output_type": "execute_result"
    }
   ],
   "source": [
    "ytrain_pred = log_model1.predict(xtrain)\n",
    "ytrain_pred"
   ]
  },
  {
   "cell_type": "code",
   "execution_count": 72,
   "id": "17644417",
   "metadata": {},
   "outputs": [
    {
     "name": "stdout",
     "output_type": "stream",
     "text": [
      "Accuracy : 0.971830985915493\n"
     ]
    }
   ],
   "source": [
    "accuracy = accuracy_score(ytrain,ytrain_pred)\n",
    "print(f\"Accuracy : {accuracy}\")"
   ]
  },
  {
   "cell_type": "code",
   "execution_count": 73,
   "id": "d1f1930e",
   "metadata": {},
   "outputs": [
    {
     "name": "stdout",
     "output_type": "stream",
     "text": [
      "[[47  2  0]\n",
      " [ 2 51  0]\n",
      " [ 0  0 40]]\n"
     ]
    }
   ],
   "source": [
    "Training_confusion_matrix = confusion_matrix(ytrain,ytrain_pred)\n",
    "print(Training_confusion_matrix)"
   ]
  },
  {
   "cell_type": "code",
   "execution_count": 74,
   "id": "a303d4a9",
   "metadata": {},
   "outputs": [
    {
     "data": {
      "image/png": "[encoded data removed]",
      "text/plain": [
       "<Figure size 640x480 with 1 Axes>"
      ]
     },
     "metadata": {},
     "output_type": "display_data"
    }
   ],
   "source": [
    "X_set,y_set = xtrain, ytrain\n",
    "\n",
    "plt.scatter(X_set[y_set==1,0],X_set[y_set==1,1], label=0)\n",
    "plt.scatter(X_set[y_set==2,0],X_set[y_set==2,1],label=1)\n",
    "plt.scatter(X_set[y_set==3,0],X_set[y_set==3,1], label=2)\n",
    " \n",
    "plt.legend()                                     \n",
    "plt.show()"
   ]
  },
  {
   "cell_type": "markdown",
   "id": "67b8d569",
   "metadata": {},
   "source": [
    "#### testing"
   ]
  },
  {
   "cell_type": "code",
   "execution_count": 75,
   "id": "963ea037",
   "metadata": {},
   "outputs": [
    {
     "data": {
      "text/plain": [
       "69     2\n",
       "103    2\n",
       "20     1\n",
       "116    2\n",
       "56     1\n",
       "97     2\n",
       "117    2\n",
       "39     1\n",
       "172    3\n",
       "10     1\n",
       "19     1\n",
       "66     2\n",
       "55     1\n",
       "61     2\n",
       "102    2\n",
       "59     2\n",
       "83     2\n",
       "78     2\n",
       "110    2\n",
       "163    3\n",
       "1      1\n",
       "160    3\n",
       "47     1\n",
       "49     1\n",
       "67     2\n",
       "136    3\n",
       "68     2\n",
       "133    3\n",
       "60     2\n",
       "76     2\n",
       "171    3\n",
       "170    3\n",
       "70     2\n",
       "168    3\n",
       "124    2\n",
       "26     1\n",
       "Name: Wine, dtype: int64"
      ]
     },
     "execution_count": 75,
     "metadata": {},
     "output_type": "execute_result"
    }
   ],
   "source": [
    "ytest "
   ]
  },
  {
   "cell_type": "code",
   "execution_count": 76,
   "id": "2c295e41",
   "metadata": {},
   "outputs": [
    {
     "data": {
      "text/plain": [
       "array([2, 2, 1, 2, 1, 2, 2, 1, 3, 1, 1, 2, 1, 2, 2, 2, 3, 2, 2, 3, 1, 3,\n",
       "       1, 1, 2, 3, 3, 3, 2, 2, 3, 3, 2, 3, 1, 1], dtype=int64)"
      ]
     },
     "execution_count": 76,
     "metadata": {},
     "output_type": "execute_result"
    }
   ],
   "source": [
    "ytest_pred = log_model1.predict(xtest)\n",
    "ytest_pred"
   ]
  },
  {
   "cell_type": "code",
   "execution_count": 77,
   "id": "f37e1d7d",
   "metadata": {},
   "outputs": [
    {
     "name": "stdout",
     "output_type": "stream",
     "text": [
      "Accuracy : 0.9166666666666666\n"
     ]
    }
   ],
   "source": [
    "accuracy = accuracy_score(ytest,ytest_pred)\n",
    "print(f\"Accuracy : {accuracy}\")"
   ]
  },
  {
   "cell_type": "code",
   "execution_count": 78,
   "id": "63fa7e0c",
   "metadata": {},
   "outputs": [
    {
     "name": "stdout",
     "output_type": "stream",
     "text": [
      "[[10  0  0]\n",
      " [ 1 15  2]\n",
      " [ 0  0  8]]\n"
     ]
    }
   ],
   "source": [
    "testing_confusion_matrix = confusion_matrix(ytest,ytest_pred)\n",
    "print(testing_confusion_matrix)"
   ]
  },
  {
   "cell_type": "code",
   "execution_count": 79,
   "id": "71fd8acf",
   "metadata": {},
   "outputs": [
    {
     "data": {
      "image/png": "[encoded data removed]",
      "text/plain": [
       "<Figure size 640x480 with 1 Axes>"
      ]
     },
     "metadata": {},
     "output_type": "display_data"
    }
   ],
   "source": [
    "X_set,y_set = xtest, ytest\n",
    "\n",
    "plt.scatter(X_set[y_set==1,0],X_set[y_set==1,1], label=0)\n",
    "plt.scatter(X_set[y_set==2,0],X_set[y_set==2,1],label=1)\n",
    "plt.scatter(X_set[y_set==3,0],X_set[y_set==3,1], label=2)\n",
    " \n",
    "plt.legend()                                     \n",
    "plt.show()"
   ]
  }
 ],
 "metadata": {
  "kernelspec": {
   "display_name": "Python 3 (ipykernel)",
   "language": "python",
   "name": "python3"
  },
  "language_info": {
   "codemirror_mode": {
    "name": "ipython",
    "version": 3
   },
   "file_extension": ".py",
   "mimetype": "text/x-python",
   "name": "python",
   "nbconvert_exporter": "python",
   "pygments_lexer": "ipython3",
   "version": "3.10.9"
  }
 },
 "nbformat": 4,
 "nbformat_minor": 5
}
